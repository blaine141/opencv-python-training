{
 "cells": [
  {
   "cell_type": "markdown",
   "source": [
    "Getting Started in OpenCV\r\n",
    "===\r\n",
    "\r\n",
    "## Reading an Image\r\n",
    "\r\n",
    "We use the function `cv2.imread()` to read an image. The image is represented as a numpy array."
   ],
   "metadata": {}
  },
  {
   "cell_type": "code",
   "execution_count": null,
   "source": [
    "import cv2 \r\n",
    "import numpy as np"
   ],
   "outputs": [],
   "metadata": {}
  },
  {
   "cell_type": "code",
   "execution_count": null,
   "source": [
    "# first argument is the path image to load\r\n",
    "image = cv2.imread('../assets/windows.jpg')\r\n",
    "print(type(image))"
   ],
   "outputs": [],
   "metadata": {}
  },
  {
   "cell_type": "markdown",
   "source": [
    "## Displaying an Image\n",
    "\n",
    "We use the function `cv2.imshow()` to display an image."
   ],
   "metadata": {}
  },
  {
   "cell_type": "code",
   "execution_count": null,
   "source": [
    "cv2.imshow('image', image)\r\n",
    "cv2.waitKey(0)\r\n",
    "cv2.destroyAllWindows()"
   ],
   "outputs": [],
   "metadata": {}
  },
  {
   "cell_type": "markdown",
   "source": [
    "`cv2.waitKey()` is a keyboard binding function, which means it waits for a specified amount of time (in milliseconds) for any keyboard event. If any key was pressed within the time, the program continues. If `0` is passed, it waits indefinitely.\n",
    "\n",
    "`cv2.destroyAllWindows()` destroys all windows created. To destroy a specific window, use `cv2.destroyWindow()` with the window name passed as an argument."
   ],
   "metadata": {}
  },
  {
   "cell_type": "code",
   "execution_count": null,
   "source": [
    "cv2.namedWindow('image', cv2.WINDOW_NORMAL)\r\n",
    "cv2.imshow('image', image)\r\n",
    "cv2.waitKey(0)\r\n",
    "cv2.destroyWindow('image')"
   ],
   "outputs": [],
   "metadata": {}
  },
  {
   "cell_type": "markdown",
   "source": [
    "`cv2.namedWindow()` creates a window where an image may be loaded. The window may be specified to be resizable or not. The default flag is `cv2.WINDOW_AUTOSIZE`. Meanwhile, if you specify the flag as `cv2.WINDOW_NORMAL`, the window may be resizable."
   ],
   "metadata": {}
  },
  {
   "cell_type": "markdown",
   "source": [
    "## Writing an Image\n",
    "\n",
    "We use the function `cv2.imwrite()` to save an image.\n",
    "\n",
    "First argument is the file name, while the second is the image to be saved."
   ],
   "metadata": {}
  },
  {
   "cell_type": "code",
   "execution_count": null,
   "source": [
    "image = cv2.imread('../assets/windows.jpg')\r\n",
    "cv2.imwrite('windows_jpg.jpg', image)\r\n",
    "cv2.imwrite('windows_png.png', image)"
   ],
   "outputs": [],
   "metadata": {}
  },
  {
   "cell_type": "markdown",
   "source": [
    "## Video in OpenCV\r\n",
    "\r\n",
    "### Read a Video\r\n",
    "\r\n",
    "To capture a video, we need to create a `cv2.VideoCapture` object. The argument for this may be a camera index or the name of a video file. Here we will use a video of the game pong."
   ],
   "metadata": {}
  },
  {
   "cell_type": "code",
   "execution_count": null,
   "source": [
    "import cv2\r\n",
    "import numpy as np\r\n",
    "\r\n",
    "cap = cv2.VideoCapture(\"../assets/pong.mp4\")\r\n",
    "\r\n",
    "while True:\r\n",
    "    _, frame = cap.read()\r\n",
    "    \r\n",
    "    cv2.imshow('Pong.mp4', frame)\r\n",
    "    \r\n",
    "    # If a key was pressed\r\n",
    "    if cv2.waitKey(20) > 0:\r\n",
    "        break\r\n",
    "        \r\n",
    "cap.release()\r\n",
    "cv2.destroyAllWindows()"
   ],
   "outputs": [],
   "metadata": {}
  }
 ],
 "metadata": {
  "kernelspec": {
   "name": "python3",
   "display_name": "Python 3.8.8 64-bit"
  },
  "language_info": {
   "codemirror_mode": {
    "name": "ipython",
    "version": 3
   },
   "file_extension": ".py",
   "mimetype": "text/x-python",
   "name": "python",
   "nbconvert_exporter": "python",
   "pygments_lexer": "ipython3",
   "version": "3.8.8"
  },
  "interpreter": {
   "hash": "2db524e06e9f5f4ffedc911c917cb75e12dbc923643829bf417064a77eb14d37"
  }
 },
 "nbformat": 4,
 "nbformat_minor": 2
}