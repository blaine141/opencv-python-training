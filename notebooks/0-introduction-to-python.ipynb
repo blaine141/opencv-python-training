{
 "cells": [
  {
   "cell_type": "markdown",
   "source": [
    "Introduction to Python Programming\r\n",
    "==="
   ],
   "metadata": {}
  },
  {
   "cell_type": "markdown",
   "source": [
    "Welcome to this intro to Python. First, this document we are in is called a Jupyter Notebook. It contains blocks of code that you can run and text explaining those blocks. Click the play button to the left of the block below to run the python code and print Hello World! You may get notifications asking you to install things since this is your first time."
   ],
   "metadata": {}
  },
  {
   "cell_type": "code",
   "execution_count": null,
   "source": [
    "print('Hello World!')"
   ],
   "outputs": [],
   "metadata": {}
  },
  {
   "cell_type": "markdown",
   "source": [
    "You can also edit these blocks of code. Go ahead and change the above block so it prints \"Goodbye World!\""
   ],
   "metadata": {}
  },
  {
   "cell_type": "markdown",
   "source": [
    "## Variables"
   ],
   "metadata": {}
  },
  {
   "cell_type": "markdown",
   "source": [
    "Python variables are similar to Java variables in all ways but one. The main difference is that Python variables can change type. You do not need to declare a variable with a type before you use it. "
   ],
   "metadata": {}
  },
  {
   "cell_type": "code",
   "execution_count": null,
   "source": [
    "a = 1               # Integer\r\n",
    "print(a)\r\n",
    "a = 2.345 + 374.2   # Float\r\n",
    "print(a)\r\n",
    "a = [1, 2, 3]       # List\r\n",
    "print(a)\r\n",
    "a = \"Hello\"         # String\r\n",
    "print(a)\r\n",
    "a += \" World!\"      # Still a string\r\n",
    "print(a)\r\n",
    "b = 12              # New variable b is an Integer  \r\n",
    "print(b)"
   ],
   "outputs": [],
   "metadata": {}
  },
  {
   "cell_type": "markdown",
   "source": [
    "## Comments"
   ],
   "metadata": {}
  },
  {
   "cell_type": "code",
   "execution_count": null,
   "source": [
    "# I am a comment\r\n",
    "# If you run me nothing will happen\r\n",
    "# print(\"I will not print\")\r\n",
    "\r\n",
    "# There are no multi line comments.\r\n",
    "# To comment / uncomment multiple lines, highlight them and hit ctrl+/"
   ],
   "outputs": [],
   "metadata": {}
  },
  {
   "cell_type": "markdown",
   "source": [
    "## Logical Operators"
   ],
   "metadata": {}
  },
  {
   "cell_type": "markdown",
   "source": [
    "Here the logical and relational operators of python. They are different from Java so I thought I should mention them. Also of note, a 1 can be considered True and a 0 can be considered False."
   ],
   "metadata": {}
  },
  {
   "cell_type": "code",
   "execution_count": null,
   "source": [
    "1 or 1"
   ],
   "outputs": [],
   "metadata": {}
  },
  {
   "cell_type": "code",
   "execution_count": null,
   "source": [
    "1 or 0"
   ],
   "outputs": [],
   "metadata": {}
  },
  {
   "cell_type": "code",
   "execution_count": null,
   "source": [
    "1 and 1"
   ],
   "outputs": [],
   "metadata": {}
  },
  {
   "cell_type": "code",
   "execution_count": null,
   "source": [
    "1 and 0"
   ],
   "outputs": [],
   "metadata": {}
  },
  {
   "cell_type": "code",
   "execution_count": null,
   "source": [
    "not True"
   ],
   "outputs": [],
   "metadata": {}
  },
  {
   "cell_type": "code",
   "execution_count": null,
   "source": [
    "not False"
   ],
   "outputs": [],
   "metadata": {}
  },
  {
   "cell_type": "markdown",
   "source": [
    "## Relational Operators"
   ],
   "metadata": {}
  },
  {
   "cell_type": "code",
   "execution_count": null,
   "source": [
    "1 == 1 # equal to"
   ],
   "outputs": [],
   "metadata": {}
  },
  {
   "cell_type": "code",
   "execution_count": null,
   "source": [
    "0 == 1 # equal to"
   ],
   "outputs": [],
   "metadata": {}
  },
  {
   "cell_type": "code",
   "execution_count": null,
   "source": [
    "1 != 1 # not equal to"
   ],
   "outputs": [],
   "metadata": {}
  },
  {
   "cell_type": "code",
   "execution_count": null,
   "source": [
    "0 != 1 # not equal to"
   ],
   "outputs": [],
   "metadata": {}
  },
  {
   "cell_type": "code",
   "execution_count": null,
   "source": [
    "1 > 0 # greater than"
   ],
   "outputs": [],
   "metadata": {}
  },
  {
   "cell_type": "code",
   "execution_count": null,
   "source": [
    "0 > 1 # greater than"
   ],
   "outputs": [],
   "metadata": {}
  },
  {
   "cell_type": "code",
   "execution_count": null,
   "source": [
    "1 < 0 # less than"
   ],
   "outputs": [],
   "metadata": {}
  },
  {
   "cell_type": "code",
   "execution_count": null,
   "source": [
    "0 < 1 # less than"
   ],
   "outputs": [],
   "metadata": {}
  },
  {
   "cell_type": "code",
   "execution_count": null,
   "source": [
    "0 >= 0 # greater than or equal to"
   ],
   "outputs": [],
   "metadata": {}
  },
  {
   "cell_type": "code",
   "execution_count": null,
   "source": [
    "1 >= 0 # greater than or equal to"
   ],
   "outputs": [],
   "metadata": {}
  },
  {
   "cell_type": "code",
   "execution_count": null,
   "source": [
    "-1 >= 0 # greater than or equal to"
   ],
   "outputs": [],
   "metadata": {}
  },
  {
   "cell_type": "code",
   "execution_count": null,
   "source": [
    "0 <= 0 # less than or equal to"
   ],
   "outputs": [],
   "metadata": {}
  },
  {
   "cell_type": "code",
   "execution_count": null,
   "source": [
    "1 <= 0 # less than or equal to"
   ],
   "outputs": [],
   "metadata": {}
  },
  {
   "cell_type": "code",
   "execution_count": null,
   "source": [
    "-1 <= 0 # less than or equal to"
   ],
   "outputs": [],
   "metadata": {}
  },
  {
   "cell_type": "markdown",
   "source": [
    "## Data Structures: List"
   ],
   "metadata": {}
  },
  {
   "cell_type": "markdown",
   "source": [
    "Values in square brackets show a list. [] is an empty list. Elements in a list do not need to have the same type"
   ],
   "metadata": {}
  },
  {
   "cell_type": "code",
   "execution_count": null,
   "source": [
    "subjects = ['mathematics', 'physics', 'computer science', 'chemistry'] # create list"
   ],
   "outputs": [],
   "metadata": {}
  },
  {
   "cell_type": "markdown",
   "source": [
    "### Membership Operators"
   ],
   "metadata": {}
  },
  {
   "cell_type": "code",
   "execution_count": null,
   "source": [
    "'mathematics' in subjects # checks if 'mathematics' is in subjects list"
   ],
   "outputs": [],
   "metadata": {}
  },
  {
   "cell_type": "code",
   "execution_count": null,
   "source": [
    "'mathematics' not in subjects # checks if 'mathematics' is not in subjects list"
   ],
   "outputs": [],
   "metadata": {}
  },
  {
   "cell_type": "markdown",
   "source": [
    "### Accessing List Elements"
   ],
   "metadata": {}
  },
  {
   "cell_type": "code",
   "execution_count": null,
   "source": [
    "print('subjects[0]:', subjects[0]) # access first element"
   ],
   "outputs": [],
   "metadata": {}
  },
  {
   "cell_type": "code",
   "execution_count": null,
   "source": [
    "print('subjects[-1]', subjects[-1]) # access last element. -1 is one from the end"
   ],
   "outputs": [],
   "metadata": {}
  },
  {
   "cell_type": "markdown",
   "source": [
    "### Updating List Element"
   ],
   "metadata": {}
  },
  {
   "cell_type": "code",
   "execution_count": null,
   "source": [
    "subjects[0] = 'Mathematics' # Assign first element"
   ],
   "outputs": [],
   "metadata": {}
  },
  {
   "cell_type": "markdown",
   "source": [
    "### Length of List"
   ],
   "metadata": {}
  },
  {
   "cell_type": "code",
   "execution_count": null,
   "source": [
    "len(subjects) # Length of the subject list"
   ],
   "outputs": [],
   "metadata": {}
  },
  {
   "cell_type": "markdown",
   "source": [
    "### Slicing"
   ],
   "metadata": {}
  },
  {
   "cell_type": "markdown",
   "source": [
    "You can use a:b while indexing to get all the elements from index a up to and excluding index b. If a is missing, it will use index 0. If b is missing, it will use the last index."
   ],
   "metadata": {}
  },
  {
   "cell_type": "code",
   "execution_count": null,
   "source": [
    "subjects[1:3] # access second and third elements only"
   ],
   "outputs": [],
   "metadata": {}
  },
  {
   "cell_type": "code",
   "execution_count": null,
   "source": [
    "subjects[1:] # access all elements starting from second element only"
   ],
   "outputs": [],
   "metadata": {}
  },
  {
   "cell_type": "code",
   "execution_count": null,
   "source": [
    "subjects[:-1] # access every element but the last one"
   ],
   "outputs": [],
   "metadata": {}
  },
  {
   "cell_type": "markdown",
   "source": [
    "### Appending"
   ],
   "metadata": {}
  },
  {
   "cell_type": "code",
   "execution_count": null,
   "source": [
    "subjects.append('statistics') # add a new element to the end\r\n",
    "print(subjects)"
   ],
   "outputs": [],
   "metadata": {}
  },
  {
   "cell_type": "markdown",
   "source": [
    "## Data Structures: Tuple"
   ],
   "metadata": {}
  },
  {
   "cell_type": "markdown",
   "source": [
    "A tuple is a list, but the elements can not be changed. Tuples are created by having comma separated values without square brackets. Tuples can be formed with or without parenthesis."
   ],
   "metadata": {}
  },
  {
   "cell_type": "code",
   "execution_count": null,
   "source": [
    "a = (1, 2)      # Make a tuple\r\n",
    "print(a)\r\n",
    "a = 1, 2        # Make the same tuple\r\n",
    "print(a)"
   ],
   "outputs": [],
   "metadata": {}
  },
  {
   "cell_type": "code",
   "execution_count": null,
   "source": [
    "a = (1, 2, 3)   # Make a 3-tuple\r\n",
    "print(a[0])     # Print the first element\r\n",
    "a[0] = 12       # You can not assign to tuples. We will get an exception"
   ],
   "outputs": [],
   "metadata": {}
  },
  {
   "cell_type": "markdown",
   "source": [
    "Tuples, as well as lists, have the cool feature of being able to be unpacked. If you know how many items are in the tuple, you can assign it to multiple variables."
   ],
   "metadata": {}
  },
  {
   "cell_type": "code",
   "execution_count": null,
   "source": [
    "a, b = (1, 2) # Unpack a tuple\r\n",
    "print(a)\r\n",
    "print(b)"
   ],
   "outputs": [],
   "metadata": {}
  },
  {
   "cell_type": "code",
   "execution_count": null,
   "source": [
    "my_list = [1, 2, 3]\r\n",
    "a, b, c, = my_list # Unpack a list\r\n",
    "print(a, b, c)"
   ],
   "outputs": [],
   "metadata": {}
  },
  {
   "cell_type": "markdown",
   "source": [
    "## Condition Statements"
   ],
   "metadata": {}
  },
  {
   "cell_type": "markdown",
   "source": [
    "Python has no curly braces, instead it uses colons and indented blocks. Everything indented after a colon is within that if statement."
   ],
   "metadata": {}
  },
  {
   "cell_type": "code",
   "execution_count": null,
   "source": [
    "if 'Mathematics' in subjects:\r\n",
    "    print('Mathematics is in subjects!')"
   ],
   "outputs": [],
   "metadata": {}
  },
  {
   "cell_type": "code",
   "execution_count": null,
   "source": [
    "if 'mathematics' in subjects:\r\n",
    "    print('mathematics is in subjects!')\r\n",
    "else:\r\n",
    "    print('mathematics is not in subjects!')"
   ],
   "outputs": [],
   "metadata": {}
  },
  {
   "cell_type": "code",
   "execution_count": null,
   "source": [
    "if 'mathematics' in subjects:\r\n",
    "    print('mathematics is in subjects!')\r\n",
    "elif 'Mathematics' in subjects:\r\n",
    "    print('Mathematics is in subjects!')\r\n",
    "else:\r\n",
    "    print('Neither')"
   ],
   "outputs": [],
   "metadata": {}
  },
  {
   "cell_type": "markdown",
   "source": [
    "## Loop Statements"
   ],
   "metadata": {}
  },
  {
   "cell_type": "markdown",
   "source": [
    "The for loop in python is a little different. Rather than count a set number of times, it loops through a set of items such as a list. It is Java's for each loop. Let's demonstrate by looping through a list of numbers."
   ],
   "metadata": {}
  },
  {
   "cell_type": "code",
   "execution_count": null,
   "source": [
    "a = [1, 2, 3, 7, 9, 12, 47]\r\n",
    "\r\n",
    "# Print every item in a\r\n",
    "for current_value in a:\r\n",
    "    print(current_value)"
   ],
   "outputs": [],
   "metadata": {}
  },
  {
   "cell_type": "markdown",
   "source": [
    "Each item in the list gets placed in the variable we specified (current_value) and then the indented code runs. If we want to loop from 0 to 9 like in a normal for loop, you have to use the following code."
   ],
   "metadata": {}
  },
  {
   "cell_type": "code",
   "execution_count": null,
   "source": [
    "for i in range(10):\r\n",
    "    print(i)"
   ],
   "outputs": [],
   "metadata": {}
  },
  {
   "cell_type": "markdown",
   "source": [
    "The range() function makes a list from 0 to your number so you can loop through it. The while loop also exists. Here is it demonstrating the break statement which will automatically break out of the loop"
   ],
   "metadata": {}
  },
  {
   "cell_type": "code",
   "execution_count": null,
   "source": [
    "value = 0\r\n",
    "\r\n",
    "while True:\r\n",
    "    print('Hello!', end=' ')\r\n",
    "    if value == 3:\r\n",
    "        break\r\n",
    "    else:\r\n",
    "        value += 1"
   ],
   "outputs": [],
   "metadata": {}
  },
  {
   "cell_type": "markdown",
   "source": [
    "## Functions"
   ],
   "metadata": {}
  },
  {
   "cell_type": "markdown",
   "source": [
    "Functions use the indented block just like if statements and loops."
   ],
   "metadata": {}
  },
  {
   "cell_type": "code",
   "execution_count": null,
   "source": [
    "def pretty_print(statement):\r\n",
    "    print('*======*')\r\n",
    "    print(statement)\r\n",
    "    print('*======*')"
   ],
   "outputs": [],
   "metadata": {}
  },
  {
   "cell_type": "code",
   "execution_count": null,
   "source": [
    "pretty_print('Hello, World!!')"
   ],
   "outputs": [],
   "metadata": {}
  },
  {
   "cell_type": "code",
   "execution_count": null,
   "source": [
    "# Adds x and y\r\n",
    "def add(x, y):\r\n",
    "    return x + y"
   ],
   "outputs": [],
   "metadata": {}
  },
  {
   "cell_type": "code",
   "execution_count": null,
   "source": [
    "c = add(1, 2) # Call our adding function\r\n",
    "print(c)"
   ],
   "outputs": [],
   "metadata": {}
  },
  {
   "cell_type": "markdown",
   "source": [
    "Functions can also return multiple values by returning a tuple."
   ],
   "metadata": {}
  },
  {
   "cell_type": "code",
   "execution_count": null,
   "source": [
    "# Returns the absolute value and negative absolute value of a\r\n",
    "def opposites(a):\r\n",
    "    return abs(a), -abs(a)"
   ],
   "outputs": [],
   "metadata": {}
  },
  {
   "cell_type": "code",
   "execution_count": null,
   "source": [
    "a, b = opposites(5)\r\n",
    "print(a)\r\n",
    "print(b)"
   ],
   "outputs": [],
   "metadata": {}
  },
  {
   "cell_type": "markdown",
   "source": [
    "## Imports"
   ],
   "metadata": {}
  },
  {
   "cell_type": "markdown",
   "source": [
    "You can import an entire package, import one thing from a package, or give a package an alias."
   ],
   "metadata": {}
  },
  {
   "cell_type": "code",
   "execution_count": null,
   "source": [
    "import math\r\n",
    "\r\n",
    "math.cos(0)"
   ],
   "outputs": [],
   "metadata": {}
  },
  {
   "cell_type": "code",
   "execution_count": null,
   "source": [
    "from math import cos\r\n",
    "\r\n",
    "cos(0)"
   ],
   "outputs": [],
   "metadata": {}
  },
  {
   "cell_type": "code",
   "execution_count": null,
   "source": [
    "import math as m\r\n",
    "\r\n",
    "m.cos(0)"
   ],
   "outputs": [],
   "metadata": {}
  },
  {
   "cell_type": "markdown",
   "source": [
    "## Python Notes"
   ],
   "metadata": {}
  },
  {
   "cell_type": "markdown",
   "source": [
    "Python is an interpereted language which means that it is not compiled. Instead Python is read line by line and \"compiled\" as the program executes \r\n",
    "\r\n",
    "Pros:\r\n",
    "1. Never have to wait on compilation\r\n",
    "2. Can add code during execution\r\n",
    "3. Can execute strings such as \"print('Hello World!')\"\r\n",
    "\r\n",
    "Cons:\r\n",
    "1. Slower\r\n",
    "\r\n",
    "Everyone loves to make fun of python because it is slow. They are correct, but if you code correctly, you will never notice. The slow part of python is the reading of the line. Any program where you have many lines that are not doing much computing, the time it takes to read the lines will outweigh the computing time. Here is an example.\r\n",
    "\r\n",
    "We will make a for loop that adds up all the values in a list."
   ],
   "metadata": {}
  },
  {
   "cell_type": "code",
   "execution_count": null,
   "source": [
    "# Make a list of a million ones\r\n",
    "our_list = [1] * 100_000_000 # The underscores show us it is millions\r\n",
    "our_sum = 0\r\n",
    "\r\n",
    "# For each value in the list, add it up\r\n",
    "for value in our_list:\r\n",
    "    our_sum += value\r\n",
    "\r\n",
    "print(our_sum)"
   ],
   "outputs": [],
   "metadata": {}
  },
  {
   "cell_type": "markdown",
   "source": [
    "We can see that to read and execute 100 million additions, it took around 10 seconds (time may be different on your computer). Now lets try to add up the 100 million numbers a faster way"
   ],
   "metadata": {}
  },
  {
   "cell_type": "code",
   "execution_count": null,
   "source": [
    "print(sum(our_list))"
   ],
   "outputs": [],
   "metadata": {}
  },
  {
   "cell_type": "markdown",
   "source": [
    "As you can see it is around 20x faster. Why is it so much faster? Because behind the built in function sum() is C code rather than Python code. No lines need to be interpereted. In order to make sure your python code never runs slower than it needs to, make sure you never have loops that run millions of times. Use built in functions to calculate averages of large lists and arrays."
   ],
   "metadata": {}
  }
 ],
 "metadata": {
  "kernelspec": {
   "name": "python3",
   "display_name": "Python 3.8.8 64-bit"
  },
  "language_info": {
   "codemirror_mode": {
    "name": "ipython",
    "version": 3
   },
   "file_extension": ".py",
   "mimetype": "text/x-python",
   "name": "python",
   "nbconvert_exporter": "python",
   "pygments_lexer": "ipython3",
   "version": "3.8.8"
  },
  "interpreter": {
   "hash": "2db524e06e9f5f4ffedc911c917cb75e12dbc923643829bf417064a77eb14d37"
  }
 },
 "nbformat": 4,
 "nbformat_minor": 2
}