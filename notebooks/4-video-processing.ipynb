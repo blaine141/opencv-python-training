{
 "cells": [
  {
   "cell_type": "markdown",
   "source": [
    "Image Processing with OpenCV\r\n",
    "===\r\n",
    "\r\n",
    "It's time to put together everything we have learned and actually detect an object."
   ],
   "metadata": {}
  },
  {
   "cell_type": "markdown",
   "source": [
    "## Problem Definition\r\n",
    "\r\n",
    "Most of what you will be doing with computer vision is determining the location of an object. To practice this, we will take a video of the video game pong and circle the ball in every frame. Then when we play the video, we will see the circle moving with the ball.\r\n",
    "\r\n",
    "To start we need to look at the video and determine which steps need to be taken. Let's play the video the same way that we did in notebook 2."
   ],
   "metadata": {}
  },
  {
   "cell_type": "code",
   "execution_count": null,
   "source": [
    "import cv2\r\n",
    "import numpy as np\r\n",
    "\r\n",
    "cap = cv2.VideoCapture(\"../assets/pong.mp4\")\r\n",
    "\r\n",
    "while True:\r\n",
    "    ret, frame = cap.read()\r\n",
    "\r\n",
    "    # if frame is read correctly ret is True\r\n",
    "    if not ret:\r\n",
    "        print(\"Can't receive frame (stream end?). Exiting ...\")\r\n",
    "        break\r\n",
    "    \r\n",
    "    cv2.imshow('Pong.mp4', frame)\r\n",
    "    \r\n",
    "    # If a key was pressed\r\n",
    "    if cv2.waitKey(20) > 0:\r\n",
    "        break\r\n",
    "        \r\n",
    "cap.release()\r\n",
    "cv2.destroyAllWindows()"
   ],
   "outputs": [],
   "metadata": {}
  },
  {
   "cell_type": "markdown",
   "source": [
    "With all object tracking, the goal is to turn the input into a binarized grayscale image where the object we are interested in is 255 and the background is 0. This may seem like alot but we will take it step by step. \r\n",
    "\r\n",
    "First we will grab a single frame from the video. It is much easier to work with a single frame rather tha a whole video. "
   ],
   "metadata": {}
  },
  {
   "cell_type": "code",
   "execution_count": null,
   "source": [
    "cap = cv2.VideoCapture(\"../assets/pong.mp4\")\r\n",
    "ret, frame = cap.read()\r\n",
    "cap.release()\r\n",
    "\r\n",
    "cv2.imshow('frame', frame)\r\n",
    "cv2.waitKey(0)\r\n",
    "cv2.destroyAllWindows()"
   ],
   "outputs": [],
   "metadata": {}
  },
  {
   "cell_type": "markdown",
   "source": [
    "Since we don't care about color, lets convert the frame to grayscale. If we did care about color, we could grab a color channel or filter by hue. "
   ],
   "metadata": {}
  },
  {
   "cell_type": "code",
   "execution_count": null,
   "source": [
    "frame_gray = cv2.cvtColor(frame, cv2.COLOR_BGR2GRAY)\r\n",
    "\r\n",
    "cv2.imshow('frame_gray', frame_gray)\r\n",
    "cv2.waitKey(0)\r\n",
    "cv2.destroyAllWindows()"
   ],
   "outputs": [],
   "metadata": {}
  },
  {
   "cell_type": "markdown",
   "source": [
    "Now that our image is grayscale, let's binarize it. We are only interested in the ball which is white and dont care about the score which is gray. Let's set our threshold somewhere between grey and white to eliminate the score."
   ],
   "metadata": {}
  },
  {
   "cell_type": "code",
   "execution_count": null,
   "source": [
    "_, frame_binarized = cv2.threshold(frame_gray, 220, 255, cv2.THRESH_BINARY)\r\n",
    "\r\n",
    "cv2.imshow('frame_binarized', frame_binarized)\r\n",
    "cv2.waitKey(0)\r\n",
    "cv2.destroyAllWindows()"
   ],
   "outputs": [],
   "metadata": {}
  },
  {
   "cell_type": "markdown",
   "source": [
    "Now we need to turn everything that is not the ball black. This is the border around the image and the center bar. We will select these regions with numpy slicing and then set them to 0."
   ],
   "metadata": {}
  },
  {
   "cell_type": "code",
   "execution_count": null,
   "source": [
    "frame_filtered = frame_binarized.copy()\r\n",
    "frame_filtered[:15] = 0\r\n",
    "frame_filtered[-15:] = 0\r\n",
    "frame_filtered[:, :16] = 0\r\n",
    "frame_filtered[:, -16:] = 0\r\n",
    "frame_filtered[:, 311:325] = 0\r\n",
    "\r\n",
    "cv2.imshow('frame_filtered', frame_filtered)\r\n",
    "cv2.waitKey(0)\r\n",
    "cv2.destroyAllWindows()"
   ],
   "outputs": [],
   "metadata": {}
  },
  {
   "cell_type": "markdown",
   "source": [
    "Now lets put it all together. We will play the video and process each frame in the way we just processed this frame."
   ],
   "metadata": {}
  },
  {
   "cell_type": "code",
   "execution_count": null,
   "source": [
    "cap = cv2.VideoCapture(\"../assets/pong.mp4\")\r\n",
    "\r\n",
    "while True:\r\n",
    "    ret, frame = cap.read()\r\n",
    "\r\n",
    "    # if frame is read correctly ret is True\r\n",
    "    if not ret:\r\n",
    "        print(\"Can't receive frame (stream end?). Exiting ...\")\r\n",
    "        break\r\n",
    "\r\n",
    "    frame_gray = cv2.cvtColor(frame, cv2.COLOR_BGR2GRAY)\r\n",
    "    _, frame_binarized = cv2.threshold(frame_gray, 220, 255, cv2.THRESH_BINARY)\r\n",
    "    frame_filtered = frame_binarized.copy()\r\n",
    "    frame_filtered[:15] = 0\r\n",
    "    frame_filtered[-15:] = 0\r\n",
    "    frame_filtered[:, :16] = 0\r\n",
    "    frame_filtered[:, -16:] = 0\r\n",
    "    frame_filtered[:, 311:325] = 0\r\n",
    "    \r\n",
    "    cv2.imshow('Pong.mp4', frame_filtered)\r\n",
    "    \r\n",
    "    # If a key was pressed\r\n",
    "    if cv2.waitKey(20) > 0:\r\n",
    "        break\r\n",
    "        \r\n",
    "cap.release()\r\n",
    "cv2.destroyAllWindows()"
   ],
   "outputs": [],
   "metadata": {}
  }
 ],
 "metadata": {
  "kernelspec": {
   "name": "python3",
   "display_name": "Python 3.8.8 64-bit"
  },
  "language_info": {
   "codemirror_mode": {
    "name": "ipython",
    "version": 3
   },
   "file_extension": ".py",
   "mimetype": "text/x-python",
   "name": "python",
   "nbconvert_exporter": "python",
   "pygments_lexer": "ipython3",
   "version": "3.8.8"
  },
  "interpreter": {
   "hash": "2db524e06e9f5f4ffedc911c917cb75e12dbc923643829bf417064a77eb14d37"
  }
 },
 "nbformat": 4,
 "nbformat_minor": 2
}