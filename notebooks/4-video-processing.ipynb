{
 "cells": [
  {
   "cell_type": "markdown",
   "source": [
    "Image Processing with OpenCV\r\n",
    "===\r\n",
    "\r\n",
    "It's time to put together everything we have learned and actually detect an object."
   ],
   "metadata": {}
  },
  {
   "cell_type": "markdown",
   "source": [
    "## Problem Definition\r\n",
    "\r\n",
    "Most of what you will be doing with computer vision is determining the location of an object. To practice this, we will take a video of the video game pong and find the ball in every frame.\r\n",
    "\r\n",
    "To start we need to look at the video and determine which steps need to be taken. Let's play the video the same way that we did in notebook 2."
   ],
   "metadata": {}
  },
  {
   "cell_type": "code",
   "execution_count": null,
   "source": [
    "import cv2\r\n",
    "\r\n",
    "# Define the frame grabber\r\n",
    "cap = cv2.VideoCapture(\"../assets/pong.mp4\")\r\n",
    "\r\n",
    "while True:\r\n",
    "    # Get our next frame\r\n",
    "    ret, frame = cap.read() \r\n",
    "\r\n",
    "    # If the frame failed to read\r\n",
    "    if not ret:\r\n",
    "        print(\"Can't receive frame (stream end?). Exiting ...\")\r\n",
    "        break\r\n",
    "    \r\n",
    "    cv2.imshow('Pong.mp4', frame)\r\n",
    "    \r\n",
    "    # If a key was pressed\r\n",
    "    if cv2.waitKey(20) > 0:\r\n",
    "        break\r\n",
    "        \r\n",
    "cap.release()\r\n",
    "cv2.destroyAllWindows()"
   ],
   "outputs": [],
   "metadata": {}
  },
  {
   "cell_type": "markdown",
   "source": [
    "With all object tracking, the goal is to turn the input into a binarized grayscale image where the object we are interested in is 255 and the background is 0. This may seem like alot but we will take it step by step. \r\n",
    "\r\n",
    "First we will grab a single frame from the video. It is much easier to work with a single frame rather tha a whole video. "
   ],
   "metadata": {}
  },
  {
   "cell_type": "code",
   "execution_count": null,
   "source": [
    "cap = cv2.VideoCapture(\"../assets/pong.mp4\")    # Define frame grabber\r\n",
    "ret, frame = cap.read()                         # Grab a frame\r\n",
    "cap.release()                                   # Close frame grabber\r\n",
    "\r\n",
    "# Display frame\r\n",
    "cv2.imshow('frame', frame)                      \r\n",
    "cv2.waitKey(0)\r\n",
    "cv2.destroyAllWindows()"
   ],
   "outputs": [],
   "metadata": {}
  },
  {
   "cell_type": "markdown",
   "source": [
    "Since we don't care about color, lets convert the frame to grayscale. If we did care about color, we could grab a color channel or filter by hue. "
   ],
   "metadata": {}
  },
  {
   "cell_type": "code",
   "execution_count": null,
   "source": [
    "# Convert to grayscale\r\n",
    "frame_gray = cv2.cvtColor(frame, cv2.COLOR_BGR2GRAY)\r\n",
    "\r\n",
    "cv2.imshow('frame_gray', frame_gray)\r\n",
    "cv2.waitKey(0)\r\n",
    "cv2.destroyAllWindows()"
   ],
   "outputs": [],
   "metadata": {}
  },
  {
   "cell_type": "markdown",
   "source": [
    "Now that our image is grayscale, let's binarize it. We are only interested in the ball which is white and dont care about the score which is gray. Let's set our threshold somewhere between grey and white to eliminate the score."
   ],
   "metadata": {}
  },
  {
   "cell_type": "code",
   "execution_count": null,
   "source": [
    "# Filter out gray by thresholding\r\n",
    "_, frame_binarized = cv2.threshold(frame_gray, 220, 255, cv2.THRESH_BINARY)\r\n",
    "\r\n",
    "cv2.imshow('frame_binarized', frame_binarized)\r\n",
    "cv2.waitKey(0)\r\n",
    "cv2.destroyAllWindows()"
   ],
   "outputs": [],
   "metadata": {}
  },
  {
   "cell_type": "markdown",
   "source": [
    "Now we need to turn everything that is not the ball black. This is the border around the image and the center bar. We will select these regions with numpy slicing and then set them to 0."
   ],
   "metadata": {}
  },
  {
   "cell_type": "code",
   "execution_count": null,
   "source": [
    "# Copy the thresholded image and set the border and center bar regions to 0\r\n",
    "frame_filtered = frame_binarized.copy()\r\n",
    "frame_filtered[:15] = 0                         # Top Bar\r\n",
    "frame_filtered[-15:] = 0                        # Bottom bar\r\n",
    "frame_filtered[:, :16] = 0                      # Left bar\r\n",
    "frame_filtered[:, -16:] = 0                     # Right bar\r\n",
    "frame_filtered[:, 311:325] = 0                  # Center bar\r\n",
    "\r\n",
    "# Display the filtered frame\r\n",
    "cv2.imshow('frame_filtered', frame_filtered)\r\n",
    "cv2.waitKey(0)\r\n",
    "cv2.destroyAllWindows()"
   ],
   "outputs": [],
   "metadata": {}
  },
  {
   "cell_type": "markdown",
   "source": [
    "Now lets put it all together. We will play the video and process each frame in the way we just processed this frame."
   ],
   "metadata": {}
  },
  {
   "cell_type": "code",
   "execution_count": null,
   "source": [
    "import cv2\r\n",
    "\r\n",
    "# Define the frame grabber\r\n",
    "cap = cv2.VideoCapture(\"../assets/pong.mp4\")\r\n",
    "\r\n",
    "while True:\r\n",
    "    # Get our next frame\r\n",
    "    ret, frame = cap.read() \r\n",
    "\r\n",
    "    # If the frame failed to read\r\n",
    "    if not ret:\r\n",
    "        print(\"Can't receive frame (stream end?). Exiting ...\")\r\n",
    "        break\r\n",
    "\r\n",
    "    # Filter out the ball\r\n",
    "    frame_gray = cv2.cvtColor(frame, cv2.COLOR_BGR2GRAY)\r\n",
    "    _, frame_binarized = cv2.threshold(frame_gray, 220, 255, cv2.THRESH_BINARY)\r\n",
    "    frame_filtered = frame_binarized.copy()\r\n",
    "    frame_filtered[:15] = 0\r\n",
    "    frame_filtered[-15:] = 0\r\n",
    "    frame_filtered[:, :16] = 0\r\n",
    "    frame_filtered[:, -16:] = 0\r\n",
    "    frame_filtered[:, 311:325] = 0\r\n",
    "    \r\n",
    "    # Display just the ball\r\n",
    "    cv2.imshow('Pong.mp4', frame_filtered)\r\n",
    "    \r\n",
    "    # If a key was pressed\r\n",
    "    if cv2.waitKey(20) > 0:\r\n",
    "        break\r\n",
    "        \r\n",
    "cap.release()\r\n",
    "cv2.destroyAllWindows()"
   ],
   "outputs": [],
   "metadata": {}
  },
  {
   "cell_type": "markdown",
   "source": [
    "## Next moves\r\n",
    "\r\n",
    "Now that we have the ball isolated we could do anything. We could use more OpenCV functions to find its position. With a live feed of the ball's position, we could make an automated score board or an AI to always hit the ball. This was a very simple computer vision task but you will find that even harder tasks come down to threaholding out a specific object."
   ],
   "metadata": {}
  }
 ],
 "metadata": {
  "kernelspec": {
   "name": "python3",
   "display_name": "Python 3.8.8 64-bit"
  },
  "language_info": {
   "codemirror_mode": {
    "name": "ipython",
    "version": 3
   },
   "file_extension": ".py",
   "mimetype": "text/x-python",
   "name": "python",
   "nbconvert_exporter": "python",
   "pygments_lexer": "ipython3",
   "version": "3.8.8"
  },
  "interpreter": {
   "hash": "2db524e06e9f5f4ffedc911c917cb75e12dbc923643829bf417064a77eb14d37"
  }
 },
 "nbformat": 4,
 "nbformat_minor": 2
}