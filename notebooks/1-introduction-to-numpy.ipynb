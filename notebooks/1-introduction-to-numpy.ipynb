{
 "cells": [
  {
   "cell_type": "markdown",
   "source": [
    "Introduction to NumPy\n",
    "==="
   ],
   "metadata": {}
  },
  {
   "cell_type": "markdown",
   "source": [
    "## Arrays\r\n",
    "A numpy array is a grid of values, all of the same type, and is indexed by a tuple of integers. The shape of an array is a tuple of integers giving the size of the array along each dimension.\r\n",
    "\r\n",
    "We can initialize numpy arrays from nested Python lists, and access elements using square brackets:"
   ],
   "metadata": {}
  },
  {
   "cell_type": "code",
   "execution_count": null,
   "source": [
    "import numpy as np \r\n",
    "\r\n",
    "a = np.array([1, 2, 3])   # Create a 1-dimensional array\r\n",
    "print(type(a))            # Prints \"<class 'numpy.ndarray'>\"\r\n",
    "print(a.shape)            # Prints \"(3,)\"\r\n",
    "print(a[0], a[1], a[2])   # Prints \"1 2 3\"\r\n",
    "a[0] = 5                  # Change an element of the array\r\n",
    "print(a)                  # Prints \"[5, 2, 3]\"\r\n",
    "\r\n",
    "b = np.array([\r\n",
    "    [1, 2, 3], \r\n",
    "    [4, 5, 6]\r\n",
    "])    # Create a rank 2 array\r\n",
    "print(b)                           # Print the array\r\n",
    "print(b.shape)                     # Prints \"(2, 3)\"\r\n",
    "print(b[0, 0], b[0, 1], b[1, 0])   # Prints \"1 2 4\""
   ],
   "outputs": [],
   "metadata": {}
  },
  {
   "cell_type": "markdown",
   "source": [
    "Numpy also provides many functions to create arrays:"
   ],
   "metadata": {}
  },
  {
   "cell_type": "code",
   "execution_count": null,
   "source": [
    "a = np.zeros((2, 2))   # Create an array of all zeros\r\n",
    "print(a)              # Prints \"[[ 0.  0.]\r\n",
    "                      #          [ 0.  0.]]\"\r\n",
    "\r\n",
    "b = np.ones((1, 2))    # Create an array of all ones\r\n",
    "print(b)              # Prints \"[[ 1.  1.]]\"\r\n",
    "\r\n",
    "c = np.full((2, 2), 7)  # Create a constant array\r\n",
    "print(c)               # Prints \"[[ 7.  7.]\r\n",
    "                       #          [ 7.  7.]]\"\r\n",
    "\r\n",
    "e = np.random.random((2, 2))  # Create an array filled with random values\r\n",
    "print(e)                     # Might print \"[[ 0.91940167  0.08143941]\r\n",
    "                             #               [ 0.68744134  0.87236687]]\""
   ],
   "outputs": [],
   "metadata": {}
  },
  {
   "cell_type": "markdown",
   "source": [
    "## Array Indexing"
   ],
   "metadata": {}
  },
  {
   "cell_type": "code",
   "execution_count": null,
   "source": [
    "# Create the following rank 2 array with shape (3, 4)\r\n",
    "# [[ 1  2  3  4]\r\n",
    "#  [ 5  6  7  8]\r\n",
    "#  [ 9 10 11 12]]\r\n",
    "a = np.array([\r\n",
    "    [1, 2, 3, 4], \r\n",
    "    [5, 6, 7, 8], \r\n",
    "    [9, 10, 11, 12]\r\n",
    "])\r\n",
    "\r\n",
    "# Use slicing to pull out the subarray consisting of the first 2 rows\r\n",
    "# and columns 1 and 2; b is the following array of shape (2, 2):\r\n",
    "# [[2 3]\r\n",
    "#  [6 7]]\r\n",
    "b = a[:2, 1:3]\r\n",
    "\r\n",
    "# A slice of an array is a view into the same data, so modifying it\r\n",
    "# will modify the original array.\r\n",
    "print(a[0, 1])   # Prints \"2\"\r\n",
    "b[0, 0] = 77     # b[0, 0] is the same piece of data as a[0, 1]\r\n",
    "print(a[0, 1])   # Prints \"77\"\r\n",
    "\r\n",
    "a[:, 1] = 0      # Set everything in the second column to 0\r\n",
    "print(a)"
   ],
   "outputs": [],
   "metadata": {}
  },
  {
   "cell_type": "markdown",
   "source": [
    "## Array Data Types"
   ],
   "metadata": {}
  },
  {
   "cell_type": "code",
   "execution_count": null,
   "source": [
    "x = np.array([1, 2])   # Let numpy choose the datatype\r\n",
    "print(x.dtype)         # Prints \"int64\"\r\n",
    "\r\n",
    "x = np.array([1.0, 2.0])   # Let numpy choose the datatype\r\n",
    "print(x.dtype)             # Prints \"float64\"\r\n",
    "\r\n",
    "x = np.array([1, 2], dtype=np.int8)   # Force a particular datatype\r\n",
    "print(x.dtype)                         # Prints \"int8\""
   ],
   "outputs": [],
   "metadata": {}
  },
  {
   "cell_type": "markdown",
   "source": [
    "## Operations"
   ],
   "metadata": {}
  },
  {
   "cell_type": "code",
   "execution_count": null,
   "source": [
    "x = np.array([[1, 2], [3, 4]], dtype=np.float64)\r\n",
    "y = np.array([[5, 6], [7, 8]], dtype=np.float64)\r\n",
    "\r\n",
    "# Elementwise sum; both produce the array\r\n",
    "# [[ 6.0  8.0]\r\n",
    "#  [10.0 12.0]]\r\n",
    "print(x + y)\r\n",
    "print(np.add(x, y))\r\n",
    "\r\n",
    "# Elementwise difference; both produce the array\r\n",
    "# [[-4.0 -4.0]\r\n",
    "#  [-4.0 -4.0]]\r\n",
    "print(x - y)\r\n",
    "print(np.subtract(x, y))\r\n",
    "\r\n",
    "# Elementwise product; both produce the array\r\n",
    "# [[ 5.0 12.0]\r\n",
    "#  [21.0 32.0]]\r\n",
    "print(x * y)\r\n",
    "print(np.multiply(x, y))\r\n",
    "\r\n",
    "# Elementwise division; both produce the array\r\n",
    "# [[ 0.2         0.33333333]\r\n",
    "#  [ 0.42857143  0.5       ]]\r\n",
    "print(x / y)\r\n",
    "print(np.divide(x, y))\r\n",
    "\r\n",
    "# Elementwise square root; produces the array\r\n",
    "# [[ 1.          1.41421356]\r\n",
    "#  [ 1.73205081  2.        ]]\r\n",
    "print(np.sqrt(x))\r\n",
    "\r\n",
    "# Return the array index of the maximum value\r\n",
    "print(np.argmax(x))\r\n",
    "\r\n",
    "# Return the array indices of the maximum values per row\r\n",
    "print(np.argmax(x, axis=1))\r\n",
    "\r\n",
    "# Return the array indices of the maximum values per column\r\n",
    "print(np.argmax(x, axis=0))"
   ],
   "outputs": [],
   "metadata": {}
  },
  {
   "cell_type": "markdown",
   "source": [
    "NumPy provides many useful functions for performing computations on arrays; one of the most useful is `sum`:"
   ],
   "metadata": {}
  },
  {
   "cell_type": "code",
   "execution_count": null,
   "source": [
    "x = np.array([[1, 2],[3, 4]])\r\n",
    "\r\n",
    "print(np.sum(x))  # Compute sum of all elements; prints \"10\"\r\n",
    "print(np.sum(x, axis=0))  # Compute sum of each column; prints \"[4 6]\"\r\n",
    "print(np.sum(x, axis=1))  # Compute sum of each row; prints \"[3 7]\"\r\n",
    "\r\n",
    "# Average and Standard Deviation\r\n",
    "print(np.mean(x))\r\n",
    "print(np.std(x))"
   ],
   "outputs": [],
   "metadata": {}
  },
  {
   "cell_type": "markdown",
   "source": [
    "## Iteration\n",
    "\n",
    "To iterate over NumPy arrays, do so as if iterating over a list"
   ],
   "metadata": {}
  },
  {
   "cell_type": "code",
   "execution_count": null,
   "source": [
    "a = np.array([1, 4, 5, 10, 12, 15], int)\r\n",
    "\r\n",
    "# Print each element in array\r\n",
    "for number in a:\r\n",
    "    print(number)"
   ],
   "outputs": [],
   "metadata": {}
  },
  {
   "cell_type": "markdown",
   "source": [
    "## Relational Operators"
   ],
   "metadata": {}
  },
  {
   "cell_type": "code",
   "execution_count": null,
   "source": [
    "# Create arrays with random integer values\r\n",
    "a = np.random.randint(10, size=(5))\r\n",
    "b = np.random.randint(10, size=(5))\r\n",
    "\r\n",
    "print('a:', a)\r\n",
    "print('b:', b)\r\n",
    "print(a > b)\r\n",
    "print(a < b)\r\n",
    "print(a == b)\r\n",
    "print(a >= b)\r\n",
    "print(a <= b)\r\n",
    "print(a != b)\r\n",
    "\r\n",
    "print(np.equal(a, b))"
   ],
   "outputs": [],
   "metadata": {}
  }
 ],
 "metadata": {
  "kernelspec": {
   "name": "python3",
   "display_name": "Python 3.8.8 64-bit"
  },
  "language_info": {
   "codemirror_mode": {
    "name": "ipython",
    "version": 3
   },
   "file_extension": ".py",
   "mimetype": "text/x-python",
   "name": "python",
   "nbconvert_exporter": "python",
   "pygments_lexer": "ipython3",
   "version": "3.8.8"
  },
  "interpreter": {
   "hash": "2db524e06e9f5f4ffedc911c917cb75e12dbc923643829bf417064a77eb14d37"
  }
 },
 "nbformat": 4,
 "nbformat_minor": 2
}